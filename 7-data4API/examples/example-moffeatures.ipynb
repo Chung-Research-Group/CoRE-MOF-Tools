{
 "cells": [
  {
   "cell_type": "code",
   "execution_count": 1,
   "id": "016e71d2-5239-4c21-9f54-b550ca5d83c2",
   "metadata": {},
   "outputs": [
    {
     "name": "stdout",
     "output_type": "stream",
     "text": [
      "Detected IPython. Loading juliacall extension. See https://juliapy.github.io/PythonCall.jl/stable/compat/#IPython\n"
     ]
    }
   ],
   "source": [
    "from CoREMOF.calculation import mof_features"
   ]
  },
  {
   "cell_type": "markdown",
   "id": "650dc9ea-3c4c-47fd-9009-873746f15074",
   "metadata": {},
   "source": [
    "### space group"
   ]
  },
  {
   "cell_type": "code",
   "execution_count": 3,
   "id": "2da1a854-9660-4d07-b699-219eb3a66fc5",
   "metadata": {},
   "outputs": [
    {
     "name": "stdout",
     "output_type": "stream",
     "text": [
      "{'unit': 'nan', 'hall_symbol': 'C -2yc', 'space_group_number': 9, 'crystal_system': 'monoclinic'}\n"
     ]
    }
   ],
   "source": [
    "result_sg=mof_features.SpaceGroup(structure=\"CoREMOF2024DB/CR/2004[Co][rtl]3[ASR]1.cif\")\n",
    "print(result_sg)"
   ]
  },
  {
   "cell_type": "markdown",
   "id": "e7d47d60-334e-43c3-a1ba-5785f78a7b2c",
   "metadata": {},
   "source": [
    "### mass"
   ]
  },
  {
   "cell_type": "code",
   "execution_count": 7,
   "id": "4a25c38e-644d-41b6-a696-1c1029cc8e66",
   "metadata": {},
   "outputs": [
    {
     "name": "stdout",
     "output_type": "stream",
     "text": [
      "{'unit': 'amu', 'total_mass': 1212.556776}\n"
     ]
    }
   ],
   "source": [
    "result_m=mof_features.Mass(structure=\"CoREMOF2024DB/CR/2004[Co][rtl]3[ASR]1.cif\")\n",
    "print(result_m)"
   ]
  },
  {
   "cell_type": "markdown",
   "id": "7dbf3485-0bcb-4b78-9cea-0d706c41d166",
   "metadata": {},
   "source": [
    "### volume"
   ]
  },
  {
   "cell_type": "code",
   "execution_count": 8,
   "id": "4a09c21b-6350-444e-9364-06f08fd52a35",
   "metadata": {},
   "outputs": [
    {
     "name": "stdout",
     "output_type": "stream",
     "text": [
      "{'unit': 'Å^3', 'total_volume': 1320.383676297741}\n"
     ]
    }
   ],
   "source": [
    "result_v=mof_features.Volume(structure=\"CoREMOF2024DB/CR/2004[Co][rtl]3[ASR]1.cif\")\n",
    "print(result_v)"
   ]
  },
  {
   "cell_type": "markdown",
   "id": "adfd712b-3953-4c67-8a42-408876a0dd08",
   "metadata": {},
   "source": [
    "### number of atoms"
   ]
  },
  {
   "cell_type": "code",
   "execution_count": 9,
   "id": "3775170a-a657-4d2a-a173-1f33ca34a6f8",
   "metadata": {},
   "outputs": [
    {
     "name": "stdout",
     "output_type": "stream",
     "text": [
      "{'unit': 'nan', 'number_atoms': 108}\n"
     ]
    }
   ],
   "source": [
    "result_na=mof_features.n_atom(structure=\"CoREMOF2024DB/CR/2004[Co][rtl]3[ASR]1.cif\")\n",
    "print(result_na)"
   ]
  },
  {
   "cell_type": "markdown",
   "id": "cfa8c996-b716-40d3-bcd2-67cdb544e3fd",
   "metadata": {},
   "source": [
    "### topology"
   ]
  },
  {
   "cell_type": "code",
   "execution_count": 2,
   "id": "957b4ab2-2e5a-4d79-80bf-7c11ee069cc2",
   "metadata": {},
   "outputs": [
    {
     "name": "stderr",
     "output_type": "stream",
     "text": [
      "    Updating registry at `~/.julia/registries/General.toml`\n",
      "   Resolving package versions...\n",
      "  No Changes to `~/anaconda3/envs/coremofapi/julia_env/Project.toml`\n",
      "  No Changes to `~/anaconda3/envs/coremofapi/julia_env/Manifest.toml`\n",
      "[ Warning: Guessing bonds with custom algorithm (from Chemfiles and VMD). This may take a while for big structures and may be inexact.\n",
      "[ Info: To avoid guessing bonds, use a file format that contains the bonds.\n"
     ]
    },
    {
     "name": "stdout",
     "output_type": "stream",
     "text": [
      "Export of input is enabled: saving file at /tmp/input_2004[Co][rtl]3[ASR]1.vtf\n",
      "Export of subnet_AllNodes is enabled: saving file at /tmp/subnet_AllNodes_2004[Co][rtl]3[ASR]1_1.vtf\n",
      "Export of subnet_SingleNodes is enabled: saving file at /tmp/subnet_SingleNodes_2004[Co][rtl]3[ASR]1_1.vtf\n",
      "{'dimention': [3], 'topology': ['rtl']}\n"
     ]
    }
   ],
   "source": [
    "result_topo = mof_features.topology(structure=\"CoREMOF2024DB/CR/2004[Co][rtl]3[ASR]1.cif\", node_type=\"single\")\n",
    "print(result_topo)"
   ]
  },
  {
   "cell_type": "markdown",
   "id": "3c7a0116-a2eb-4396-b566-3047c4ff5d25",
   "metadata": {},
   "source": [
    "### RACs"
   ]
  },
  {
   "cell_type": "code",
   "execution_count": 12,
   "id": "59ff9c6a-7bff-4d0f-8a01-67297e9be8da",
   "metadata": {
    "scrolled": true
   },
   "outputs": [
    {
     "name": "stdout",
     "output_type": "stream",
     "text": [
      "('cell vectors: ', 'alpha, beta, gamma = 84.69763441, 95.30236559, 41.09106704')\n"
     ]
    },
    {
     "name": "stderr",
     "output_type": "stream",
     "text": [
      "==============================\n",
      "*** Open Babel Warning  in PerceiveBondOrders\n",
      "  Failed to kekulize aromatic bonds in OBMol::PerceiveBondOrders (title is ABAVIJ_ASR_pacman)\n",
      "\n"
     ]
    },
    {
     "name": "stdout",
     "output_type": "stream",
     "text": [
      "176 176\n",
      "{'Metal': {'D_mc-I-0-all': 0.0, 'D_mc-I-1-all': 0.0, 'D_mc-I-2-all': 0.0, 'D_mc-I-3-all': 0.0, 'D_mc-S-0-all': 0.0, 'D_mc-S-1-all': 3.14, 'D_mc-S-2-all': 3.92, 'D_mc-S-3-all': 9.6, 'D_mc-T-0-all': 0.0, 'D_mc-T-1-all': 22.0, 'D_mc-T-2-all': 24.0, 'D_mc-T-3-all': 60.0, 'D_mc-Z-0-all': 0.0, 'D_mc-Z-1-all': 116.0, 'D_mc-Z-2-all': 168.0, 'D_mc-Z-3-all': 348.0, 'D_mc-chi-0-all': 0.0, 'D_mc-chi-1-all': -8.56, 'D_mc-chi-2-all': -5.36, 'D_mc-chi-3-all': -12.88, 'f-I-0-all': 26.0, 'f-I-1-all': 56.0, 'f-I-2-all': 108.0, 'f-I-3-all': 176.0, 'f-S-0-all': 16.8032, 'f-S-1-all': 40.5104, 'f-S-2-all': 72.6124, 'f-S-3-all': 105.392, 'f-T-0-all': 164.0, 'f-T-1-all': 448.0, 'f-T-2-all': 652.0, 'f-T-3-all': 752.0, 'f-Z-0-all': 2598.0, 'f-Z-1-all': 6408.0, 'f-Z-2-all': 9508.0, 'f-Z-3-all': 10848.0, 'f-chi-0-all': 216.734, 'f-chi-1-all': 413.5808, 'f-chi-2-all': 955.7128, 'f-chi-3-all': 1458.0352, 'mc-I-0-all': 1.0, 'mc-I-1-all': 6.0, 'mc-I-2-all': 8.0, 'mc-I-3-all': 16.0, 'mc-S-0-all': 1.5876, 'mc-S-1-all': 5.5692, 'mc-S-2-all': 7.7616, 'mc-S-3-all': 13.3056, 'mc-T-0-all': 36.0, 'mc-T-1-all': 84.0, 'mc-T-2-all': 144.0, 'mc-T-3-all': 216.0, 'mc-Z-0-all': 729.0, 'mc-Z-1-all': 1242.0, 'mc-Z-2-all': 1296.0, 'mc-Z-3-all': 2268.0, 'mc-chi-0-all': 3.5344, 'mc-chi-1-all': 37.2992, 'mc-chi-2-all': 38.352, 'mc-chi-3-all': 80.7648}, 'Linker': {'D_lc-I-0-all': 0.0, 'D_lc-I-1-all': 0.0, 'D_lc-I-2-all': 0.0, 'D_lc-I-3-all': 0.0, 'D_lc-S-0-all': 0.0, 'D_lc-S-1-all': -0.04, 'D_lc-S-2-all': 0.2133, 'D_lc-S-3-all': 0.1933, 'D_lc-T-0-all': 0.0, 'D_lc-T-1-all': -2.0, 'D_lc-T-2-all': -1.3333, 'D_lc-T-3-all': -2.3333, 'D_lc-Z-0-all': 0.0, 'D_lc-Z-1-all': 2.0, 'D_lc-Z-2-all': 6.0, 'D_lc-Z-3-all': 7.0, 'D_lc-alpha-0-all': 0.0, 'D_lc-alpha-1-all': -6.6, 'D_lc-alpha-2-all': -4.6714, 'D_lc-alpha-3-all': -7.3714, 'D_lc-chi-0-all': 0.0, 'D_lc-chi-1-all': 0.92, 'D_lc-chi-2-all': 1.48, 'D_lc-chi-3-all': 1.91, 'lc-I-0-all': 1.0, 'lc-I-1-all': 1.3333, 'lc-I-2-all': 2.6667, 'lc-I-3-all': 2.3333, 'lc-S-0-all': 0.5428, 'lc-S-1-all': 0.7597, 'lc-S-2-all': 1.3, 'lc-S-3-all': 1.127, 'lc-T-0-all': 2.0, 'lc-T-1-all': 6.0, 'lc-T-2-all': 8.0, 'lc-T-3-all': 7.3333, 'lc-Z-0-all': 59.0, 'lc-Z-1-all': 60.0, 'lc-Z-2-all': 107.3333, 'lc-Z-3-all': 82.6667, 'lc-alpha-0-all': 36.98, 'lc-alpha-1-all': 95.6733, 'lc-alpha-2-all': 136.6351, 'lc-alpha-3-all': 129.9617, 'lc-chi-0-all': 10.9696, 'lc-chi-1-all': 11.016, 'lc-chi-2-all': 23.3637, 'lc-chi-3-all': 18.7387, 'f-lig-I-0': 13.0, 'f-lig-I-1': 26.0, 'f-lig-I-2': 38.0, 'f-lig-I-3': 42.0, 'f-lig-S-0': 5.7333, 'f-lig-S-1': 12.7666, 'f-lig-S-2': 17.2678, 'f-lig-S-3': 16.611, 'f-lig-T-0': 64.0, 'f-lig-T-1': 150.0, 'f-lig-T-2': 190.0, 'f-lig-T-3': 168.0, 'f-lig-Z-0': 397.0, 'f-lig-Z-1': 768.0, 'f-lig-Z-2': 1020.0, 'f-lig-Z-3': 884.0, 'f-lig-chi-0': 91.2838, 'f-lig-chi-1': 176.001, 'f-lig-chi-2': 261.8652, 'f-lig-chi-3': 273.572}, 'Function-group': {'D_func-I-0-all': 0.0, 'D_func-I-1-all': 0.0, 'D_func-I-2-all': 0.0, 'D_func-I-3-all': 0.0, 'D_func-S-0-all': 0.0, 'D_func-S-1-all': 0.0, 'D_func-S-2-all': 0.0, 'D_func-S-3-all': 0.0, 'D_func-T-0-all': 0.0, 'D_func-T-1-all': 0.0, 'D_func-T-2-all': 0.0, 'D_func-T-3-all': 0.0, 'D_func-Z-0-all': 0.0, 'D_func-Z-1-all': 0.0, 'D_func-Z-2-all': 0.0, 'D_func-Z-3-all': 0.0, 'D_func-alpha-0-all': 0.0, 'D_func-alpha-1-all': 0.0, 'D_func-alpha-2-all': 0.0, 'D_func-alpha-3-all': 0.0, 'D_func-chi-0-all': 0.0, 'D_func-chi-1-all': 0.0, 'D_func-chi-2-all': 0.0, 'D_func-chi-3-all': 0.0, 'func-I-0-all': 0.0, 'func-I-1-all': 0.0, 'func-I-2-all': 0.0, 'func-I-3-all': 0.0, 'func-S-0-all': 0.0, 'func-S-1-all': 0.0, 'func-S-2-all': 0.0, 'func-S-3-all': 0.0, 'func-T-0-all': 0.0, 'func-T-1-all': 0.0, 'func-T-2-all': 0.0, 'func-T-3-all': 0.0, 'func-Z-0-all': 0.0, 'func-Z-1-all': 0.0, 'func-Z-2-all': 0.0, 'func-Z-3-all': 0.0, 'func-alpha-0-all': 0.0, 'func-alpha-1-all': 0.0, 'func-alpha-2-all': 0.0, 'func-alpha-3-all': 0.0, 'func-chi-0-all': 0.0, 'func-chi-1-all': 0.0, 'func-chi-2-all': 0.0, 'func-chi-3-all': 0.0}}\n"
     ]
    }
   ],
   "source": [
    "result_rac = mof_features.RACs(structure=\"CoREMOF2024DB/CR/2004[Co][rtl]3[ASR]1.cif\")\n",
    "print(result_rac)"
   ]
  },
  {
   "cell_type": "markdown",
   "id": "37b92ebb-66db-42a3-84b8-844f543e95e3",
   "metadata": {},
   "source": [
    "### open metal type"
   ]
  },
  {
   "cell_type": "code",
   "execution_count": 13,
   "id": "fb39e0b8-2249-48f5-bbfe-8c8bb1e99f83",
   "metadata": {
    "scrolled": true
   },
   "outputs": [
    {
     "name": "stdout",
     "output_type": "stream",
     "text": [
      "Loading CIF files...\n",
      "100.0 %\n",
      "All Done.\n",
      "--------------------------------------------------\n",
      "Running OMS Analysis...\n",
      "--------------------------------------------------\n",
      "1 batch requested. \n",
      "Overwrite is set to False. \n",
      "Storing results in tmp_oms/oms_results. \n",
      "--------------------------------------------------\n",
      "\n",
      "Validating property : \"load_balancing_index\"\n",
      "Validated 100 %                                                                                                                  \n",
      "--------------------------------------------------\n",
      "Checking if results for any of the MOFs exist...\n",
      "Will not skip any MOFs\n",
      "--------------------------------------------------\n",
      "Batch 1 has 1 MOFs\n",
      "--------------------------------------------------\n"
     ]
    },
    {
     "name": "stderr",
     "output_type": "stream",
     "text": [
      "/root/anaconda3/envs/coremofapi/lib/python3.9/site-packages/pymatgen/core/structure.py:3083: EncodingWarning: We strongly encourage explicit `encoding`, and we would use UTF-8 by default as per PEP 686\n",
      "  with zopen(filename, mode=\"rt\", errors=\"replace\") as file:\n"
     ]
    },
    {
     "name": "stdout",
     "output_type": "stream",
     "text": [
      "Batch 1 100.00 % : Analysing 2004[Co][rtl]3[ASR]1                                                                                                    "
     ]
    },
    {
     "name": "stderr",
     "output_type": "stream",
     "text": [
      "/root/anaconda3/envs/coremofapi/lib/python3.9/site-packages/pymatgen/io/cif.py:1721: FutureWarning: We strongly discourage using implicit binary/text `mode`, and this would not be allowed after 2025-06-01. I.e. you should pass t/b in `mode`.\n",
      "  with zopen(filename, mode=mode) as file:\n"
     ]
    },
    {
     "name": "stdout",
     "output_type": "stream",
     "text": [
      "Batch 1 Finished.                                                                                                                                    \n",
      "Validating property : \"has_oms\"\n",
      "Validated 100 %                                                                                                                  \n",
      "\n",
      "Analysis Finished. Time required:0.70 sec\n",
      "--------------------------------------------------\n",
      "\n",
      "Validating property : \"has_oms\"\n",
      "Validated 100 %                                                                                                                  \n",
      "\n",
      "Validating property : \"has_oms\"\n",
      "Validated 100 %                                                                                                                  \n",
      "\n",
      "Validating property : \"has_oms\"\n",
      "Validated 100 %                                                                                                                  \n",
      "{'Metal Types': 'Co', 'Has OMS': 'No', 'OMS Types': 'N/A'}\n"
     ]
    }
   ],
   "source": [
    "result_oms = mof_features.get_oms_file(structure=\"CoREMOF2024DB/CR/2004[Co][rtl]3[ASR]1.cif\")\n",
    "print(result_oms)"
   ]
  },
  {
   "cell_type": "code",
   "execution_count": null,
   "id": "1ac2fdbd-aa7f-4045-9575-f28300ce4919",
   "metadata": {},
   "outputs": [],
   "source": []
  }
 ],
 "metadata": {
  "kernelspec": {
   "display_name": "CSD",
   "language": "python",
   "name": "csd"
  },
  "language_info": {
   "codemirror_mode": {
    "name": "ipython",
    "version": 3
   },
   "file_extension": ".py",
   "mimetype": "text/x-python",
   "name": "python",
   "nbconvert_exporter": "python",
   "pygments_lexer": "ipython3",
   "version": "3.9.18"
  }
 },
 "nbformat": 4,
 "nbformat_minor": 5
}
