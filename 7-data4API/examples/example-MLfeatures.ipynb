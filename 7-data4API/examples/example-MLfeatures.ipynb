{
 "cells": [
  {
   "cell_type": "code",
   "execution_count": 2,
   "id": "d997edab-47b5-4e7f-bbb2-ed7918fdba05",
   "metadata": {},
   "outputs": [
    {
     "name": "stdout",
     "output_type": "stream",
     "text": [
      "Using device: cuda\n"
     ]
    },
    {
     "name": "stderr",
     "output_type": "stream",
     "text": [
      "2025-02-01 08:10:52.635233: I tensorflow/tsl/cuda/cudart_stub.cc:28] Could not find cuda drivers on your machine, GPU will not be used.\n",
      "2025-02-01 08:10:52.668561: I tensorflow/core/platform/cpu_feature_guard.cc:182] This TensorFlow binary is optimized to use available CPU instructions in performance-critical operations.\n",
      "To enable the following instructions: AVX2 FMA, in other operations, rebuild TensorFlow with the appropriate compiler flags.\n",
      "2025-02-01 08:10:53.285960: W tensorflow/compiler/tf2tensorrt/utils/py_utils.cc:38] TF-TRT Warning: Could not find TensorRT\n",
      "/root/anaconda3/envs/coremofapi/lib/python3.9/site-packages/matminer/utils/data.py:326: UserWarning: MagpieData(impute_nan=False):\n",
      "In a future release, impute_nan will be set to True by default.\n",
      "                    This means that features that are missing or are NaNs for elements\n",
      "                    from the data source will be replaced by the average of that value\n",
      "                    over the available elements.\n",
      "                    This avoids NaNs after featurization that are often replaced by\n",
      "                    dataset-dependent averages.\n",
      "  warnings.warn(f\"{self.__class__.__name__}(impute_nan=False):\\n\" + IMPUTE_NAN_WARNING)\n"
     ]
    },
    {
     "name": "stdout",
     "output_type": "stream",
     "text": [
      "Detected IPython. Loading juliacall extension. See https://juliapy.github.io/PythonCall.jl/stable/compat/#IPython\n"
     ]
    }
   ],
   "source": [
    "from CoREMOF.prediction import cp, stability"
   ]
  },
  {
   "cell_type": "markdown",
   "id": "b2352f8b-dabb-41aa-847e-1f11ad1117ee",
   "metadata": {},
   "source": [
    "### heat capacity prediction"
   ]
  },
  {
   "cell_type": "code",
   "execution_count": 4,
   "id": "eabc6676-51e7-415d-92f7-a77ce575e9f1",
   "metadata": {},
   "outputs": [
    {
     "name": "stdout",
     "output_type": "stream",
     "text": [
      "site elemental properties\n",
      "AGNI\n",
      "GSF\n",
      "LPD\n",
      "loading models for: 300\n",
      "100 models loaded, predicting...\n",
      "2004[Co][rtl]3[ASR]1.cif\n",
      "loading models for: 350\n",
      "100 models loaded, predicting...\n",
      "2004[Co][rtl]3[ASR]1.cif\n",
      "loading models for: 400\n",
      "100 models loaded, predicting...\n",
      "2004[Co][rtl]3[ASR]1.cif\n",
      "{'unit': ('J/g/K', 'J/mol/K'), '300_mean': [0.8611023857782207, 9.667823401557076], '300_std': [0.0400862029291914, 0.4500583637428407], '350_mean': [1.0033957742915982, 11.2653887713397], '350_std': [0.0443672007612702, 0.498122254525796], '400_mean': [1.0519661542322956, 11.810701226128469], '400_std': [0.0619860641224822, 0.6959338763788939]}\n"
     ]
    }
   ],
   "source": [
    "result_cp = cp(structure=\"CoREMOF2024DB/CR/2004[Co][rtl]3[ASR]1.cif\", T=[300, 350, 400])\n",
    "print(result_cp)"
   ]
  },
  {
   "cell_type": "markdown",
   "id": "f28f944a-b7d3-4029-98ee-da245a3d9bb5",
   "metadata": {},
   "source": [
    "### stability prediction"
   ]
  },
  {
   "cell_type": "code",
   "execution_count": 5,
   "id": "922b55e1-524f-4a75-b599-c9dfc3d5c65a",
   "metadata": {},
   "outputs": [
    {
     "name": "stdout",
     "output_type": "stream",
     "text": [
      "('cell vectors: ', 'alpha, beta, gamma = 84.69763441, 95.30236559, 41.09106704')\n",
      "176 176\n",
      "1/1 [==============================] - 0s 132ms/step\n",
      "1/1 [==============================] - 0s 69ms/step\n"
     ]
    },
    {
     "name": "stderr",
     "output_type": "stream",
     "text": [
      "2025-02-01 08:11:36.904283: I tensorflow/compiler/xla/stream_executor/cuda/cuda_gpu_executor.cc:982] could not open file to read NUMA node: /sys/bus/pci/devices/0000:01:00.0/numa_node\n",
      "Your kernel may have been built without NUMA support.\n",
      "2025-02-01 08:11:36.917217: W tensorflow/core/common_runtime/gpu/gpu_device.cc:1956] Cannot dlopen some GPU libraries. Please make sure the missing libraries mentioned above are installed properly if you would like to use GPU. Follow the guide at https://www.tensorflow.org/install/gpu for how to download and setup the required libraries for your platform.\n",
      "Skipping registering GPU devices...\n",
      "==============================\n",
      "*** Open Babel Warning  in PerceiveBondOrders\n",
      "  Failed to kekulize aromatic bonds in OBMol::PerceiveBondOrders (title is ABAVIJ_ASR_pacman)\n",
      "\n"
     ]
    },
    {
     "name": "stdout",
     "output_type": "stream",
     "text": [
      "{'unit': 'nan, °C, nan', 'solvent removal probability': 0.9529398083686829, 'thermal stability': 296.79998779296875, 'water probability': 0.45892857142857146}\n"
     ]
    }
   ],
   "source": [
    "result_s = stability(structure=\"CoREMOF2024DB/CR/2004[Co][rtl]3[ASR]1.cif\")\n",
    "print(result_s)"
   ]
  },
  {
   "cell_type": "code",
   "execution_count": null,
   "id": "3aae9d9f-fdf4-4a43-851f-7c38f97e2f19",
   "metadata": {},
   "outputs": [],
   "source": []
  }
 ],
 "metadata": {
  "kernelspec": {
   "display_name": "CSD",
   "language": "python",
   "name": "csd"
  },
  "language_info": {
   "codemirror_mode": {
    "name": "ipython",
    "version": 3
   },
   "file_extension": ".py",
   "mimetype": "text/x-python",
   "name": "python",
   "nbconvert_exporter": "python",
   "pygments_lexer": "ipython3",
   "version": "3.9.18"
  }
 },
 "nbformat": 4,
 "nbformat_minor": 5
}
